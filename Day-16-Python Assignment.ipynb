{
 "cells": [
  {
   "cell_type": "code",
   "execution_count": 2,
   "id": "a2d3d099",
   "metadata": {},
   "outputs": [
    {
     "name": "stdout",
     "output_type": "stream",
     "text": [
      "Enter number \n",
      "35\n",
      "35 is not a prime number\n"
     ]
    }
   ],
   "source": [
    "#1. Check if the given number is prime number\n",
    "\n",
    "num=int(input('Enter number \\n'))\n",
    "  \n",
    "for i in range(2, int(num/2)+1):\n",
    "  \n",
    "        if (num % i) == 0:\n",
    "            print(num, \"is not a prime number\")\n",
    "            break\n",
    "else:\n",
    "    print(num, \"is a prime number\")"
   ]
  },
  {
   "cell_type": "code",
   "execution_count": 1,
   "id": "029c16a0",
   "metadata": {},
   "outputs": [
    {
     "name": "stdout",
     "output_type": "stream",
     "text": [
      "Enter the range \n",
      "10\n",
      "The prime numbers between 0 to 10 are\n",
      "0\n",
      "1\n",
      "2\n",
      "3\n",
      "5\n",
      "7\n"
     ]
    }
   ],
   "source": [
    "#2. Print all the prime numbers in a given interval\n",
    "\n",
    "lower=0\n",
    "upper=int(input('Enter the range \\n'))\n",
    "print('The prime numbers between',lower, 'to', upper, 'are')\n",
    "\n",
    "for num in range(lower,upper+1):\n",
    "    \n",
    "    for i in range(2,int(num/2)+1):\n",
    "        if num%i==0:\n",
    "            break\n",
    "    else:\n",
    "        print(num)"
   ]
  },
  {
   "cell_type": "code",
   "execution_count": 3,
   "id": "1f96b8d8",
   "metadata": {},
   "outputs": [
    {
     "name": "stdout",
     "output_type": "stream",
     "text": [
      "Enter number5\n",
      "120\n"
     ]
    }
   ],
   "source": [
    "#3. Print the factorial of given number\n",
    "a=int(input('Enter number'))\n",
    "fact=1\n",
    "i=1\n",
    "while i<=a:\n",
    "    fact= fact* i\n",
    "    i=i+1\n",
    "    \n",
    "print(fact)\n"
   ]
  },
  {
   "cell_type": "code",
   "execution_count": 4,
   "id": "03749735",
   "metadata": {},
   "outputs": [
    {
     "name": "stdout",
     "output_type": "stream",
     "text": [
      "3\n"
     ]
    }
   ],
   "source": [
    "#4.Print the fibonaci series of given number\n",
    "def fibonacci(n):\n",
    "    a = 0\n",
    "    b = 1\n",
    "    for i in range(1, n):\n",
    "            fib = a + b\n",
    "            a = b\n",
    "            b = fib\n",
    "            \n",
    "    return b\n",
    "\n",
    "print(fibonacci(4))"
   ]
  },
  {
   "cell_type": "code",
   "execution_count": null,
   "id": "d445a010",
   "metadata": {},
   "outputs": [],
   "source": []
  }
 ],
 "metadata": {
  "kernelspec": {
   "display_name": "Python 3",
   "language": "python",
   "name": "python3"
  },
  "language_info": {
   "codemirror_mode": {
    "name": "ipython",
    "version": 3
   },
   "file_extension": ".py",
   "mimetype": "text/x-python",
   "name": "python",
   "nbconvert_exporter": "python",
   "pygments_lexer": "ipython3",
   "version": "3.8.8"
  }
 },
 "nbformat": 4,
 "nbformat_minor": 5
}
