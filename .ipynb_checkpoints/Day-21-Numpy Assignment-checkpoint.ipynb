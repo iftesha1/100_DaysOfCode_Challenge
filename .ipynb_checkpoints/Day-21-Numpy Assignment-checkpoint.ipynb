{
 "cells": [
  {
   "cell_type": "markdown",
   "id": "fefb1a2f",
   "metadata": {},
   "source": [
    "### Problem 1\n",
    "Construct a 2-D  10∗10  matrix with the following constraints:\n",
    "\n",
    "The element at  [0,0]  should be 1\n",
    "\n",
    "The element at  [0,9]  should be 100\n",
    "\n",
    "The element at  [9,0]  should be 50\n",
    "\n",
    "The interval between elements in rows should be constant\n",
    "\n",
    "The interval between elements in columns should be constant"
   ]
  },
  {
   "cell_type": "code",
   "execution_count": 1,
   "id": "1fd0cb3b",
   "metadata": {},
   "outputs": [],
   "source": [
    "import numpy as np\n",
    "matrix=np.random.randint(0,100,size=(10,10))"
   ]
  },
  {
   "cell_type": "code",
   "execution_count": 2,
   "id": "524ac982",
   "metadata": {},
   "outputs": [
    {
     "name": "stdout",
     "output_type": "stream",
     "text": [
      "[[ 2  2  2  2  2  2  2  2  2  2]\n",
      " [ 4  4  4  4  4  4  4  4  4  4]\n",
      " [ 6  6  6  6  6  6  6  6  6  6]\n",
      " [ 8  8  8  8  8  8  8  8  8  8]\n",
      " [10 10 10 10 10 10 10 10 10 10]\n",
      " [12 12 12 12 12 12 12 12 12 12]\n",
      " [14 14 14 14 14 14 14 14 14 14]\n",
      " [16 16 16 16 16 16 16 16 16 16]\n",
      " [18 18 18 18 18 18 18 18 18 18]\n",
      " [20 20 20 20 20 20 20 20 20 20]]\n"
     ]
    }
   ],
   "source": [
    "for j in range(0,10):\n",
    "    matrix[:,j]=np.arange(2,21,2)\n",
    "print(matrix)"
   ]
  },
  {
   "cell_type": "code",
   "execution_count": 3,
   "id": "65d7a58d",
   "metadata": {},
   "outputs": [
    {
     "data": {
      "text/plain": [
       "array([[  1,   2,   2,   2,   2,   2,   2,   2,   2, 100],\n",
       "       [  4,   4,   4,   4,   4,   4,   4,   4,   4,   4],\n",
       "       [  6,   6,   6,   6,   6,   6,   6,   6,   6,   6],\n",
       "       [  8,   8,   8,   8,   8,   8,   8,   8,   8,   8],\n",
       "       [ 10,  10,  10,  10,  10,  10,  10,  10,  10,  10],\n",
       "       [ 12,  12,  12,  12,  12,  12,  12,  12,  12,  12],\n",
       "       [ 14,  14,  14,  14,  14,  14,  14,  14,  14,  14],\n",
       "       [ 16,  16,  16,  16,  16,  16,  16,  16,  16,  16],\n",
       "       [ 18,  18,  18,  18,  18,  18,  18,  18,  18,  18],\n",
       "       [ 50,  20,  20,  20,  20,  20,  20,  20,  20,  20]])"
      ]
     },
     "execution_count": 3,
     "metadata": {},
     "output_type": "execute_result"
    }
   ],
   "source": [
    "matrix[0,0]=1\n",
    "matrix[0,9]=100\n",
    "matrix[9,0]=50\n",
    "matrix"
   ]
  },
  {
   "cell_type": "markdown",
   "id": "82489b97",
   "metadata": {},
   "source": [
    "### Problem 2\n",
    "Construct a 2-D  10∗10  matrix with the diagonal elements equal to zero and all the other elements equal to 1."
   ]
  },
  {
   "cell_type": "code",
   "execution_count": 4,
   "id": "599cc06f",
   "metadata": {},
   "outputs": [
    {
     "name": "stdout",
     "output_type": "stream",
     "text": [
      "[[0. 1. 1. 1. 1. 1. 1. 1. 1. 1.]\n",
      " [1. 0. 1. 1. 1. 1. 1. 1. 1. 1.]\n",
      " [1. 1. 0. 1. 1. 1. 1. 1. 1. 1.]\n",
      " [1. 1. 1. 0. 1. 1. 1. 1. 1. 1.]\n",
      " [1. 1. 1. 1. 0. 1. 1. 1. 1. 1.]\n",
      " [1. 1. 1. 1. 1. 0. 1. 1. 1. 1.]\n",
      " [1. 1. 1. 1. 1. 1. 0. 1. 1. 1.]\n",
      " [1. 1. 1. 1. 1. 1. 1. 0. 1. 1.]\n",
      " [1. 1. 1. 1. 1. 1. 1. 1. 0. 1.]\n",
      " [1. 1. 1. 1. 1. 1. 1. 1. 1. 0.]]\n"
     ]
    }
   ],
   "source": [
    "mat=np.ones((10,10))\n",
    "\n",
    "for i in range(0,10):\n",
    "    for j in range(0,10):\n",
    "        if i==j:\n",
    "            mat[i,j]=0\n",
    "print(mat)    \n"
   ]
  },
  {
   "cell_type": "markdown",
   "id": "a4fffabb",
   "metadata": {},
   "source": [
    "### Problem 3\n",
    "Construct a list of first 100 natural numbers.Create a two dimensional array with 10 rows and whose each row contains 10 columns and each number in this array is the square of the number from your constructed list."
   ]
  },
  {
   "cell_type": "code",
   "execution_count": 5,
   "id": "39d678d2",
   "metadata": {},
   "outputs": [
    {
     "name": "stdout",
     "output_type": "stream",
     "text": [
      "[1, 2, 3, 4, 5, 6, 7, 8, 9, 10, 11, 12, 13, 14, 15, 16, 17, 18, 19, 20, 21, 22, 23, 24, 25, 26, 27, 28, 29, 30, 31, 32, 33, 34, 35, 36, 37, 38, 39, 40, 41, 42, 43, 44, 45, 46, 47, 48, 49, 50, 51, 52, 53, 54, 55, 56, 57, 58, 59, 60, 61, 62, 63, 64, 65, 66, 67, 68, 69, 70, 71, 72, 73, 74, 75, 76, 77, 78, 79, 80, 81, 82, 83, 84, 85, 86, 87, 88, 89, 90, 91, 92, 93, 94, 95, 96, 97, 98, 99, 100]\n",
      "[[    1     4     9    16    25    36    49    64    81   100]\n",
      " [  121   144   169   196   225   256   289   324   361   400]\n",
      " [  441   484   529   576   625   676   729   784   841   900]\n",
      " [  961  1024  1089  1156  1225  1296  1369  1444  1521  1600]\n",
      " [ 1681  1764  1849  1936  2025  2116  2209  2304  2401  2500]\n",
      " [ 2601  2704  2809  2916  3025  3136  3249  3364  3481  3600]\n",
      " [ 3721  3844  3969  4096  4225  4356  4489  4624  4761  4900]\n",
      " [ 5041  5184  5329  5476  5625  5776  5929  6084  6241  6400]\n",
      " [ 6561  6724  6889  7056  7225  7396  7569  7744  7921  8100]\n",
      " [ 8281  8464  8649  8836  9025  9216  9409  9604  9801 10000]]\n"
     ]
    }
   ],
   "source": [
    "l=[]\n",
    "for i in range(1,101,1):\n",
    "    l.append(i)\n",
    "print(l)\n",
    "\n",
    "l2=[]\n",
    "for i in l:\n",
    "    l2.append(i**2)\n",
    "mat=np.array(l2)\n",
    "mat=np.reshape(mat,(10,10))\n",
    "print(mat)"
   ]
  },
  {
   "cell_type": "code",
   "execution_count": null,
   "id": "6a0c033c",
   "metadata": {},
   "outputs": [],
   "source": []
  }
 ],
 "metadata": {
  "kernelspec": {
   "display_name": "Python 3",
   "language": "python",
   "name": "python3"
  },
  "language_info": {
   "codemirror_mode": {
    "name": "ipython",
    "version": 3
   },
   "file_extension": ".py",
   "mimetype": "text/x-python",
   "name": "python",
   "nbconvert_exporter": "python",
   "pygments_lexer": "ipython3",
   "version": "3.8.8"
  }
 },
 "nbformat": 4,
 "nbformat_minor": 5
}
