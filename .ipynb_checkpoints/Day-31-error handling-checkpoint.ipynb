{
 "cells": [
  {
   "cell_type": "code",
   "execution_count": 1,
   "id": "d8978c02",
   "metadata": {},
   "outputs": [
    {
     "name": "stdout",
     "output_type": "stream",
     "text": [
      "Good to go!\n",
      "Oops! error occured in try block\n"
     ]
    }
   ],
   "source": [
    "try:\n",
    "    print(\"Good to go!\")\n",
    "    print('a', fwdfdwafwf)\n",
    "    print('b')\n",
    "except:\n",
    "    # This will check for any exception and then execute this print statement\n",
    "    print(\"Oops! error occured in try block\")\n",
    "    \n",
    "else:\n",
    "    print(\"No errors encountered!\")\n",
    "   "
   ]
  },
  {
   "cell_type": "code",
   "execution_count": 2,
   "id": "acf372ee",
   "metadata": {},
   "outputs": [],
   "source": [
    "a = 1\n",
    "b = 0.2"
   ]
  },
  {
   "cell_type": "code",
   "execution_count": 5,
   "id": "c2c60929",
   "metadata": {},
   "outputs": [
    {
     "name": "stdout",
     "output_type": "stream",
     "text": [
      "1 <class 'int'>\n",
      "Type printed\n"
     ]
    }
   ],
   "source": [
    "try:\n",
    "    print(a, type(a))\n",
    "except:\n",
    "    print(b, type(b))\n",
    "finally:\n",
    "    print('Type printed')"
   ]
  },
  {
   "cell_type": "code",
   "execution_count": 4,
   "id": "1b7e2073",
   "metadata": {},
   "outputs": [
    {
     "name": "stdout",
     "output_type": "stream",
     "text": [
      "0.2 <class 'float'>\n",
      "Type printed\n"
     ]
    }
   ],
   "source": [
    "try:\n",
    "    print(afdwfwf, type(aefwffewf))\n",
    "except:\n",
    "    print(b, type(b))\n",
    "finally:\n",
    "    print('Type printed')"
   ]
  },
  {
   "cell_type": "code",
   "execution_count": 6,
   "id": "cfbeaf12",
   "metadata": {},
   "outputs": [
    {
     "name": "stdout",
     "output_type": "stream",
     "text": [
      "The error is :  name 'adefewdwd' is not defined\n",
      "0.2 <class 'float'>\n"
     ]
    }
   ],
   "source": [
    "try:\n",
    "    a = 1\n",
    "    print(adefewdwd)\n",
    "    try:\n",
    "      print(type(afggdgdsgg))\n",
    "    except:\n",
    "      print('Error occured')\n",
    "except Exception as ex:\n",
    "    print('The error is : ', ex)\n",
    "    print(b, type(b))"
   ]
  },
  {
   "cell_type": "code",
   "execution_count": null,
   "id": "13205e73",
   "metadata": {},
   "outputs": [],
   "source": []
  }
 ],
 "metadata": {
  "kernelspec": {
   "display_name": "Python 3",
   "language": "python",
   "name": "python3"
  },
  "language_info": {
   "codemirror_mode": {
    "name": "ipython",
    "version": 3
   },
   "file_extension": ".py",
   "mimetype": "text/x-python",
   "name": "python",
   "nbconvert_exporter": "python",
   "pygments_lexer": "ipython3",
   "version": "3.8.8"
  }
 },
 "nbformat": 4,
 "nbformat_minor": 5
}
