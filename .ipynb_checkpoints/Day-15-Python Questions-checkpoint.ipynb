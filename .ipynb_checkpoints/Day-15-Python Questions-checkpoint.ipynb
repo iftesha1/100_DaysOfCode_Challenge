{
 "cells": [
  {
   "cell_type": "code",
   "execution_count": 2,
   "id": "c31da586",
   "metadata": {},
   "outputs": [
    {
     "name": "stdout",
     "output_type": "stream",
     "text": [
      "Enter km \n",
      " 3\n"
     ]
    },
    {
     "data": {
      "text/plain": [
       "1.8641130000000001"
      ]
     },
     "execution_count": 2,
     "metadata": {},
     "output_type": "execute_result"
    }
   ],
   "source": [
    "#1. Conert km to miles\n",
    "\n",
    "\n",
    "def convert():\n",
    "    km= int(input('Enter km \\n '))\n",
    "    return km*0.621371\n",
    "\n",
    "convert()"
   ]
  },
  {
   "cell_type": "code",
   "execution_count": 3,
   "id": "fb0c130e",
   "metadata": {},
   "outputs": [
    {
     "name": "stdout",
     "output_type": "stream",
     "text": [
      "Enter celcius \n",
      " 0\n",
      "The final Temperature in farhenhite is  32.0\n"
     ]
    }
   ],
   "source": [
    "#2. Conver Celcius to Farenhite\n",
    "\n",
    "def convert():\n",
    "    Cel= int(input('Enter celcius \\n '))\n",
    "    print('The final Temperature in farhenhite is ' , (Cel*9/5)+32)\n",
    "\n",
    "convert()"
   ]
  },
  {
   "cell_type": "code",
   "execution_count": 4,
   "id": "7e10e582",
   "metadata": {},
   "outputs": [
    {
     "name": "stdout",
     "output_type": "stream",
     "text": [
      "Enter year\n",
      "2022\n",
      "Enter month\n",
      "6\n",
      "     June 2022\n",
      "Mo Tu We Th Fr Sa Su\n",
      "       1  2  3  4  5\n",
      " 6  7  8  9 10 11 12\n",
      "13 14 15 16 17 18 19\n",
      "20 21 22 23 24 25 26\n",
      "27 28 29 30\n",
      "\n"
     ]
    }
   ],
   "source": [
    "#3. Print the calendar\n",
    "\n",
    "import calendar\n",
    "\n",
    "year=int(input('Enter year\\n'))\n",
    "month=int(input('Enter month\\n'))\n",
    "\n",
    "print(calendar.month(year,month))"
   ]
  },
  {
   "cell_type": "code",
   "execution_count": 5,
   "id": "19705ab8",
   "metadata": {},
   "outputs": [],
   "source": [
    "#4. Solving Qudractic equations\n",
    "\n",
    "import numpy as np\n",
    "def eqn_solver():\n",
    "    A=int(input('Enter the coeffecient of x^2 \\n'))\n",
    "    B=int(input('Enter the coeffecient of x \\n'))\n",
    "    C=int(input('Enter the constant term \\n'))\n",
    "    x1=(-B+np.sqrt(B**2-(4*A*C)))/(2*A)\n",
    "    x2=(-B-np.sqrt(B**2-(4*A*C)))/(2*A)\n",
    "    return ('The solutin of the equation is ',x1,x2)"
   ]
  },
  {
   "cell_type": "code",
   "execution_count": 6,
   "id": "f6b50d87",
   "metadata": {},
   "outputs": [
    {
     "name": "stdout",
     "output_type": "stream",
     "text": [
      "Enter the coeffecient of x^2 \n",
      "1\n",
      "Enter the coeffecient of x \n",
      "2\n",
      "Enter the constant term \n",
      "1\n"
     ]
    },
    {
     "data": {
      "text/plain": [
       "('The solutin of the equation is ', -1.0, -1.0)"
      ]
     },
     "execution_count": 6,
     "metadata": {},
     "output_type": "execute_result"
    }
   ],
   "source": [
    "eqn_solver()"
   ]
  },
  {
   "cell_type": "code",
   "execution_count": 7,
   "id": "68058b99",
   "metadata": {},
   "outputs": [
    {
     "name": "stdout",
     "output_type": "stream",
     "text": [
      "The numbers before swapping 4 5\n",
      "The numbers after swapping 5 4\n"
     ]
    }
   ],
   "source": [
    "#5. Swapping two numbers\n",
    "\n",
    "x= 4\n",
    "y= 5\n",
    "print('The numbers before swapping', x,y)\n",
    "\n",
    "x=x+y\n",
    "y=x-y\n",
    "x=x-y\n",
    "\n",
    "print ('The numbers after swapping', x,y)"
   ]
  },
  {
   "cell_type": "code",
   "execution_count": null,
   "id": "5ac371bd",
   "metadata": {},
   "outputs": [],
   "source": []
  }
 ],
 "metadata": {
  "kernelspec": {
   "display_name": "Python 3",
   "language": "python",
   "name": "python3"
  },
  "language_info": {
   "codemirror_mode": {
    "name": "ipython",
    "version": 3
   },
   "file_extension": ".py",
   "mimetype": "text/x-python",
   "name": "python",
   "nbconvert_exporter": "python",
   "pygments_lexer": "ipython3",
   "version": "3.8.8"
  }
 },
 "nbformat": 4,
 "nbformat_minor": 5
}
