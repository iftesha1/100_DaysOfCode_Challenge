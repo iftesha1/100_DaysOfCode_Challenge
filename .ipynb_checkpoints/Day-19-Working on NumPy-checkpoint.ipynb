{
 "cells": [
  {
   "cell_type": "code",
   "execution_count": 1,
   "id": "eba78324",
   "metadata": {},
   "outputs": [],
   "source": [
    "import numpy as np"
   ]
  },
  {
   "cell_type": "code",
   "execution_count": 2,
   "id": "6de02891",
   "metadata": {},
   "outputs": [],
   "source": [
    "# Create the 10 points\n",
    "\n",
    "arr=np.random.randint(5,20,(10,2))"
   ]
  },
  {
   "cell_type": "code",
   "execution_count": 3,
   "id": "39923c4b",
   "metadata": {},
   "outputs": [
    {
     "data": {
      "text/plain": [
       "array([[ 5, 19],\n",
       "       [13,  7],\n",
       "       [14, 14],\n",
       "       [ 5,  9],\n",
       "       [ 8, 10],\n",
       "       [12,  8],\n",
       "       [ 7, 10],\n",
       "       [ 7, 11],\n",
       "       [ 7,  9],\n",
       "       [18, 19]])"
      ]
     },
     "execution_count": 3,
     "metadata": {},
     "output_type": "execute_result"
    }
   ],
   "source": [
    "arr"
   ]
  },
  {
   "cell_type": "markdown",
   "id": "c237cc89",
   "metadata": {},
   "source": [
    "### # Calculate Euclidean distances between these pairs of points (total 10*10 = 100 pairs including self pairs). This should give you a 10*10 2-D array where each value corresponds to the distance between a pair\n"
   ]
  },
  {
   "cell_type": "code",
   "execution_count": 12,
   "id": "5ee060ba",
   "metadata": {},
   "outputs": [],
   "source": [
    "\n",
    "dis=[]\n",
    "for i in range(0,10):\n",
    "    a=0\n",
    "    b=10\n",
    "    while a<b:\n",
    "        a1=arr[i]\n",
    "        a2=arr[a]\n",
    "        a=a+1\n",
    "        pair= a1,a2\n",
    "        sum_sq = np.sum(np.square(a1 - a2))\n",
    "        dis.append(np.sqrt(sum_sq))"
   ]
  },
  {
   "cell_type": "code",
   "execution_count": 13,
   "id": "d36adf86",
   "metadata": {},
   "outputs": [
    {
     "data": {
      "text/plain": [
       "array([ 0, 14, 10, 10,  9, 13,  9,  8, 10, 13, 14,  0,  7,  8,  5,  1,  6,\n",
       "        7,  6, 13, 10,  7,  0, 10,  7,  6,  8,  7,  8,  6, 10,  8, 10,  0,\n",
       "        3,  7,  2,  2,  2, 16,  9,  5,  7,  3,  0,  4,  1,  1,  1, 13, 13,\n",
       "        1,  6,  7,  4,  0,  5,  5,  5, 12,  9,  6,  8,  2,  1,  5,  0,  1,\n",
       "        1, 14,  8,  7,  7,  2,  1,  5,  1,  0,  2, 13, 10,  6,  8,  2,  1,\n",
       "        5,  1,  2,  0, 14, 13, 13,  6, 16, 13, 12, 14, 13, 14,  0])"
      ]
     },
     "execution_count": 13,
     "metadata": {},
     "output_type": "execute_result"
    }
   ],
   "source": [
    "dis_arr=np.array(dis,dtype=int)\n",
    "dis_arr"
   ]
  },
  {
   "cell_type": "code",
   "execution_count": 17,
   "id": "5106468e",
   "metadata": {},
   "outputs": [],
   "source": [
    "Eucledian_dis_arr=np.reshape(dis_arr,(10,10))"
   ]
  },
  {
   "cell_type": "code",
   "execution_count": 18,
   "id": "0cd36498",
   "metadata": {},
   "outputs": [
    {
     "data": {
      "text/plain": [
       "array([[ 0, 14, 10, 10,  9, 13,  9,  8, 10, 13],\n",
       "       [14,  0,  7,  8,  5,  1,  6,  7,  6, 13],\n",
       "       [10,  7,  0, 10,  7,  6,  8,  7,  8,  6],\n",
       "       [10,  8, 10,  0,  3,  7,  2,  2,  2, 16],\n",
       "       [ 9,  5,  7,  3,  0,  4,  1,  1,  1, 13],\n",
       "       [13,  1,  6,  7,  4,  0,  5,  5,  5, 12],\n",
       "       [ 9,  6,  8,  2,  1,  5,  0,  1,  1, 14],\n",
       "       [ 8,  7,  7,  2,  1,  5,  1,  0,  2, 13],\n",
       "       [10,  6,  8,  2,  1,  5,  1,  2,  0, 14],\n",
       "       [13, 13,  6, 16, 13, 12, 14, 13, 14,  0]])"
      ]
     },
     "execution_count": 18,
     "metadata": {},
     "output_type": "execute_result"
    }
   ],
   "source": [
    "Eucledian_dis_arr"
   ]
  },
  {
   "cell_type": "markdown",
   "id": "3d40fec1",
   "metadata": {},
   "source": [
    "\n",
    "### #Calculate Manhattan distances between these pairs of points (total 10*10 = 100 pairs inlcuding self pairs).This should give you a 10*10 2-D array where each value corresponds to the distance between a pair."
   ]
  },
  {
   "cell_type": "code",
   "execution_count": 16,
   "id": "aa711be2",
   "metadata": {},
   "outputs": [
    {
     "data": {
      "text/plain": [
       "array([[ 0, 20, 14, 10, 12, 18, 11, 10, 12, 13],\n",
       "       [20,  0,  8, 10,  8,  2,  9, 10,  8, 17],\n",
       "       [14,  8,  0, 14, 10,  8, 11, 10, 12,  9],\n",
       "       [10, 10, 14,  0,  4,  8,  3,  4,  2, 23],\n",
       "       [12,  8, 10,  4,  0,  6,  1,  2,  2, 19],\n",
       "       [18,  2,  8,  8,  6,  0,  7,  8,  6, 17],\n",
       "       [11,  9, 11,  3,  1,  7,  0,  1,  1, 20],\n",
       "       [10, 10, 10,  4,  2,  8,  1,  0,  2, 19],\n",
       "       [12,  8, 12,  2,  2,  6,  1,  2,  0, 21],\n",
       "       [13, 17,  9, 23, 19, 17, 20, 19, 21,  0]])"
      ]
     },
     "execution_count": 16,
     "metadata": {},
     "output_type": "execute_result"
    }
   ],
   "source": [
    "mandis=[]\n",
    "for i in range(0,10):\n",
    "    a=0\n",
    "    b=10\n",
    "    while a<b:\n",
    "        a1=arr[i]\n",
    "        a2=arr[a]\n",
    "        a=a+1\n",
    "        pair= a1,a2\n",
    "        sum_abs = np.sum(np.absolute(a1 - a2))\n",
    "        mandis.append(sum_abs)\n",
    "mandis_arr=np.array(mandis)\n",
    "np.reshape(mandis_arr,(10,10))"
   ]
  },
  {
   "cell_type": "code",
   "execution_count": null,
   "id": "c816eaa0",
   "metadata": {},
   "outputs": [],
   "source": []
  }
 ],
 "metadata": {
  "kernelspec": {
   "display_name": "Python 3",
   "language": "python",
   "name": "python3"
  },
  "language_info": {
   "codemirror_mode": {
    "name": "ipython",
    "version": 3
   },
   "file_extension": ".py",
   "mimetype": "text/x-python",
   "name": "python",
   "nbconvert_exporter": "python",
   "pygments_lexer": "ipython3",
   "version": "3.8.8"
  }
 },
 "nbformat": 4,
 "nbformat_minor": 5
}
