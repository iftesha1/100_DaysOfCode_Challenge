{
 "cells": [
  {
   "cell_type": "code",
   "execution_count": 1,
   "id": "f23bd275",
   "metadata": {},
   "outputs": [
    {
     "name": "stdout",
     "output_type": "stream",
     "text": [
      "Enter number317\n",
      "Given number is not an armstrong number.\n"
     ]
    }
   ],
   "source": [
    "#1.Check Armstrong Number\n",
    "\n",
    "num=int(input('Enter number'))\n",
    "n=len(str(num))\n",
    "add=0\n",
    "for i in str(num):\n",
    "    add=add+int(i)**n\n",
    "if add==num:\n",
    "    print('Given number is an armstrong number.')\n",
    "else:\n",
    "    print('Given number is not an armstrong number.')\n",
    "    "
   ]
  },
  {
   "cell_type": "code",
   "execution_count": 2,
   "id": "c78094f8",
   "metadata": {},
   "outputs": [
    {
     "name": "stdout",
     "output_type": "stream",
     "text": [
      "Enter range200\n",
      "0\n",
      "1\n",
      "2\n",
      "3\n",
      "4\n",
      "5\n",
      "6\n",
      "7\n",
      "8\n",
      "9\n",
      "153\n"
     ]
    }
   ],
   "source": [
    "#2. Print all the armstrong numbers in the given range\n",
    "\n",
    "a=0\n",
    "num=int(input('Enter range'))\n",
    "for num in range(a,num):\n",
    "    n=len(str(num))\n",
    "    add=0\n",
    "    for i in str(num):\n",
    "        add=add+int(i)**n\n",
    "    if add==num:\n",
    "        print(num)\n"
   ]
  },
  {
   "cell_type": "code",
   "execution_count": 3,
   "id": "3b58c8d4",
   "metadata": {},
   "outputs": [
    {
     "name": "stdout",
     "output_type": "stream",
     "text": [
      "Enter the nuber \n",
      "4\n",
      "The multiplication table of 4 is\n",
      "4 x 1 = 4\n",
      "4 x 2 = 8\n",
      "4 x 3 = 12\n",
      "4 x 4 = 16\n",
      "4 x 5 = 20\n",
      "4 x 6 = 24\n",
      "4 x 7 = 28\n",
      "4 x 8 = 32\n",
      "4 x 9 = 36\n",
      "4 x 10 = 40\n"
     ]
    }
   ],
   "source": [
    "#3. Print the given multiplication table.\n",
    "\n",
    "a=int(input('Enter the nuber \\n'))\n",
    "print('The multiplication table of', a,'is')\n",
    "\n",
    "for i in range (1,11):\n",
    "    print(a,'x',i,'=',a*i)"
   ]
  },
  {
   "cell_type": "code",
   "execution_count": 4,
   "id": "ac49f300",
   "metadata": {},
   "outputs": [
    {
     "name": "stdout",
     "output_type": "stream",
     "text": [
      "Enter the value of n :10\n",
      "The addition of 10 numbers is 55\n"
     ]
    }
   ],
   "source": [
    "#4. Find the addition of first n natural numbers\n",
    "\n",
    "b=int(input('Enter the value of n :'))\n",
    "add=0\n",
    "for i in range(0,b+1):\n",
    "    add=add+i\n",
    "print('The addition of',b, 'numbers is',add)\n"
   ]
  },
  {
   "cell_type": "code",
   "execution_count": null,
   "id": "a48b4411",
   "metadata": {},
   "outputs": [],
   "source": []
  }
 ],
 "metadata": {
  "kernelspec": {
   "display_name": "Python 3",
   "language": "python",
   "name": "python3"
  },
  "language_info": {
   "codemirror_mode": {
    "name": "ipython",
    "version": 3
   },
   "file_extension": ".py",
   "mimetype": "text/x-python",
   "name": "python",
   "nbconvert_exporter": "python",
   "pygments_lexer": "ipython3",
   "version": "3.8.8"
  }
 },
 "nbformat": 4,
 "nbformat_minor": 5
}
