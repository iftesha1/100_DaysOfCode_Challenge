{
 "cells": [
  {
   "cell_type": "code",
   "execution_count": 1,
   "id": "64b88f0a",
   "metadata": {},
   "outputs": [],
   "source": [
    "import numpy as np\n",
    "import pandas as pd"
   ]
  },
  {
   "cell_type": "code",
   "execution_count": 4,
   "id": "69e2550d",
   "metadata": {},
   "outputs": [
    {
     "name": "stdout",
     "output_type": "stream",
     "text": [
      "                     Twitter            \n",
      "           Twitter             Twitter            \n",
      " Twitter             Twitter             Twitter            \n",
      "           Twitter             Twitter  \n",
      "\n",
      "                    Twitter  \n",
      "\n"
     ]
    }
   ],
   "source": [
    "import math\n",
    "\n",
    "n2=5\n",
    "str=\" Twitter \"\n",
    "middle=math.floor(n2/2) if n2%2==0 else math.ceil(n2/2)\n",
    "# first half\n",
    "for l in range(1,n2+1):\n",
    "    if l<=middle:\n",
    "        k=middle-l\n",
    "        for i in range(k):\n",
    "            print(\" \"*len(str),end=\" \")\n",
    "        print((str+\" \"+\" \"*len(str)+\" \")*l)\n",
    "    else: # last half in reverse order\n",
    "        r_spc=l-middle\n",
    "        r= n2-l+1 #(5+1-4,5+1-5)\n",
    "        for r2 in range(r):\n",
    "            print(\" \"*len(str)*r_spc,str,end= \" \")\n",
    "        print(\"\\n\")"
   ]
  },
  {
   "cell_type": "code",
   "execution_count": 6,
   "id": "b929c62e",
   "metadata": {},
   "outputs": [
    {
     "name": "stdout",
     "output_type": "stream",
     "text": [
      "             Twitter \n",
      "         Twitter  Twitter \n",
      "     Twitter  Twitter  Twitter \n",
      "     ineuron  ineuron  ineuron \n",
      "         ineuron  ineuron \n",
      "             ineuron \n"
     ]
    }
   ],
   "source": [
    "n=3\n",
    "for i in range(n):\n",
    " for j in range (n-i):\n",
    "     print('    ',end='')\n",
    " for j in range (i+1):\n",
    "     print(' Twitter ',end='')\n",
    " print()\n",
    "for i in range(n):\n",
    "    for j in range(i+1):\n",
    "        print('    ',end='')\n",
    "    for j in range (n-i):\n",
    "        print(' ineuron ',end='')\n",
    "    print()"
   ]
  },
  {
   "cell_type": "code",
   "execution_count": 8,
   "id": "a2770ff5",
   "metadata": {},
   "outputs": [
    {
     "name": "stdout",
     "output_type": "stream",
     "text": [
      "[4, 5, 6, 67, 7, 8, 8, 9, 9, 9, [3, 4, 5, 6, 7, 7], 'sudh']\n"
     ]
    }
   ],
   "source": [
    "l = [4,5,6,67,7,8,8,9,9,9, [3,4,5,6,7,7], 'sudh']\n",
    "\n",
    "def extract(fromList):\n",
    "    \n",
    "    extractedList = []\n",
    "    listLen = len(fromList)\n",
    "\n",
    "    outerLoop = 0\n",
    "    while outerLoop < listLen :\n",
    "        \n",
    "        if type(outerLoop) == int :\n",
    "            extractedList.append(fromList[outerLoop])\n",
    "\n",
    "        elif type(outerLoop) == list or type(outerLoop) == tuple or type(outerLoop) == set :\n",
    "            innerLoop = 0\n",
    "            while innerLoop < outerLoop :\n",
    "            \n",
    "                if type(innerLoop) == int :\n",
    "                    extractedList.append(fromList[innerLoop])\n",
    "                innerLoop += 1\n",
    "        else :\n",
    "            pass\n",
    "        \n",
    "        outerLoop += 1\n",
    "        \n",
    "    else :\n",
    "#         print(\"Else Block\")\n",
    "#         print(extractedList)\n",
    "        return extractedList\n",
    "\n",
    "listL = extract(l)\n",
    "print(listL)\n"
   ]
  },
  {
   "cell_type": "code",
   "execution_count": null,
   "id": "eab5f687",
   "metadata": {},
   "outputs": [],
   "source": []
  }
 ],
 "metadata": {
  "kernelspec": {
   "display_name": "Python 3 (ipykernel)",
   "language": "python",
   "name": "python3"
  },
  "language_info": {
   "codemirror_mode": {
    "name": "ipython",
    "version": 3
   },
   "file_extension": ".py",
   "mimetype": "text/x-python",
   "name": "python",
   "nbconvert_exporter": "python",
   "pygments_lexer": "ipython3",
   "version": "3.9.7"
  }
 },
 "nbformat": 4,
 "nbformat_minor": 5
}
