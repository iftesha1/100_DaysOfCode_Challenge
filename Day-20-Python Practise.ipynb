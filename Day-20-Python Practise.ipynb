{
 "cells": [
  {
   "cell_type": "code",
   "execution_count": 2,
   "id": "925b4ae2",
   "metadata": {},
   "outputs": [
    {
     "data": {
      "text/plain": [
       "2"
      ]
     },
     "execution_count": 2,
     "metadata": {},
     "output_type": "execute_result"
    }
   ],
   "source": [
    "L=[1,2,3]\n",
    "map(lambda x:x**2,L)\n",
    "L[1]"
   ]
  },
  {
   "cell_type": "code",
   "execution_count": 3,
   "id": "ecafab26",
   "metadata": {},
   "outputs": [
    {
     "data": {
      "text/plain": [
       "[1, 4, 9]"
      ]
     },
     "execution_count": 3,
     "metadata": {},
     "output_type": "execute_result"
    }
   ],
   "source": [
    "L=[1,2,3]\n",
    "list(map(lambda x:x**2,L))"
   ]
  },
  {
   "cell_type": "code",
   "execution_count": 4,
   "id": "bbae652a",
   "metadata": {},
   "outputs": [
    {
     "data": {
      "text/plain": [
       "[2, 4, 6, 8]"
      ]
     },
     "execution_count": 4,
     "metadata": {},
     "output_type": "execute_result"
    }
   ],
   "source": [
    "L=list(range(2,10))\n",
    "list(filter(lambda x:x%2==0,L))"
   ]
  },
  {
   "cell_type": "code",
   "execution_count": 5,
   "id": "daed9ca5",
   "metadata": {},
   "outputs": [
    {
     "name": "stdout",
     "output_type": "stream",
     "text": [
      "[['asif', 22], ['Ruhi', 24], ['Juhi', 27]]\n"
     ]
    }
   ],
   "source": [
    "Dict = {1:['asif', 22] , 2:['Ruhi' , 24] , 3:['Juhi' , 27]}\n",
    "L1= list(Dict.values())\n",
    "print(L1)"
   ]
  },
  {
   "cell_type": "code",
   "execution_count": 6,
   "id": "1fa41c66",
   "metadata": {},
   "outputs": [
    {
     "name": "stdout",
     "output_type": "stream",
     "text": [
      "['Ford', 'Mustang', 1964]\n",
      "['Ford', 'Mustang', 1964]\n"
     ]
    }
   ],
   "source": [
    "car = {\n",
    "\"brand\": \"Ford\",\n",
    "\"model\": \"Mustang\",\n",
    "\"year\": 1964\n",
    "}\n",
    "\n",
    "x = list(car.values())\n",
    "\n",
    "print(x) \n",
    "\n",
    "car[\"year\"] = 2020\n",
    "\n",
    "print(x) "
   ]
  },
  {
   "cell_type": "code",
   "execution_count": 7,
   "id": "f3d00d77",
   "metadata": {},
   "outputs": [
    {
     "name": "stdout",
     "output_type": "stream",
     "text": [
      "1 0 0 0\n",
      "2 1 0 0\n",
      "2 2 1 0\n",
      "2 2 2 1\n"
     ]
    }
   ],
   "source": [
    "n = 4\n",
    "a = [[0] * n for i in range(n)]\n",
    "for i in range(n):\n",
    "    for j in range(n):\n",
    "        if i < j:\n",
    "            a[i][j] = 0\n",
    "        elif i > j:\n",
    "            a[i][j] = 2\n",
    "        else:\n",
    "            a[i][j] = 1\n",
    "for row in a:\n",
    "    print(' '.join([str(elem) for elem in row]))"
   ]
  },
  {
   "cell_type": "code",
   "execution_count": null,
   "id": "2082bacf",
   "metadata": {},
   "outputs": [],
   "source": []
  }
 ],
 "metadata": {
  "kernelspec": {
   "display_name": "Python 3",
   "language": "python",
   "name": "python3"
  },
  "language_info": {
   "codemirror_mode": {
    "name": "ipython",
    "version": 3
   },
   "file_extension": ".py",
   "mimetype": "text/x-python",
   "name": "python",
   "nbconvert_exporter": "python",
   "pygments_lexer": "ipython3",
   "version": "3.8.8"
  }
 },
 "nbformat": 4,
 "nbformat_minor": 5
}
