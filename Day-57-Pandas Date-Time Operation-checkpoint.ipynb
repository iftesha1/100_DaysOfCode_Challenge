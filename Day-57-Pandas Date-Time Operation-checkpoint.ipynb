{
 "cells": [
  {
   "cell_type": "code",
   "execution_count": 1,
   "id": "8aa8f049",
   "metadata": {},
   "outputs": [],
   "source": [
    "import pandas as pd\n",
    "import numpy as np"
   ]
  },
  {
   "cell_type": "code",
   "execution_count": 2,
   "id": "4388195f",
   "metadata": {},
   "outputs": [],
   "source": [
    "df=pd.read_csv('imdb_data.csv')"
   ]
  },
  {
   "cell_type": "code",
   "execution_count": 4,
   "id": "7fb9defc",
   "metadata": {},
   "outputs": [
    {
     "data": {
      "text/html": [
       "<div>\n",
       "<style scoped>\n",
       "    .dataframe tbody tr th:only-of-type {\n",
       "        vertical-align: middle;\n",
       "    }\n",
       "\n",
       "    .dataframe tbody tr th {\n",
       "        vertical-align: top;\n",
       "    }\n",
       "\n",
       "    .dataframe thead th {\n",
       "        text-align: right;\n",
       "    }\n",
       "</style>\n",
       "<table border=\"1\" class=\"dataframe\">\n",
       "  <thead>\n",
       "    <tr style=\"text-align: right;\">\n",
       "      <th></th>\n",
       "      <th>id</th>\n",
       "      <th>belongs_to_collection</th>\n",
       "      <th>budget</th>\n",
       "      <th>genres</th>\n",
       "      <th>homepage</th>\n",
       "      <th>imdb_id</th>\n",
       "      <th>original_language</th>\n",
       "      <th>original_title</th>\n",
       "      <th>overview</th>\n",
       "      <th>popularity</th>\n",
       "      <th>...</th>\n",
       "      <th>release_date</th>\n",
       "      <th>runtime</th>\n",
       "      <th>spoken_languages</th>\n",
       "      <th>status</th>\n",
       "      <th>tagline</th>\n",
       "      <th>title</th>\n",
       "      <th>Keywords</th>\n",
       "      <th>cast</th>\n",
       "      <th>crew</th>\n",
       "      <th>revenue</th>\n",
       "    </tr>\n",
       "  </thead>\n",
       "  <tbody>\n",
       "    <tr>\n",
       "      <th>0</th>\n",
       "      <td>1</td>\n",
       "      <td>[{'id': 313576, 'name': 'Hot Tub Time Machine ...</td>\n",
       "      <td>14000000</td>\n",
       "      <td>[{'id': 35, 'name': 'Comedy'}]</td>\n",
       "      <td>NaN</td>\n",
       "      <td>tt2637294</td>\n",
       "      <td>en</td>\n",
       "      <td>Hot Tub Time Machine 2</td>\n",
       "      <td>When Lou, who has become the \"father of the In...</td>\n",
       "      <td>6.575393</td>\n",
       "      <td>...</td>\n",
       "      <td>2/20/15</td>\n",
       "      <td>93.0</td>\n",
       "      <td>[{'iso_639_1': 'en', 'name': 'English'}]</td>\n",
       "      <td>Released</td>\n",
       "      <td>The Laws of Space and Time are About to be Vio...</td>\n",
       "      <td>Hot Tub Time Machine 2</td>\n",
       "      <td>[{'id': 4379, 'name': 'time travel'}, {'id': 9...</td>\n",
       "      <td>[{'cast_id': 4, 'character': 'Lou', 'credit_id...</td>\n",
       "      <td>[{'credit_id': '59ac067c92514107af02c8c8', 'de...</td>\n",
       "      <td>12314651</td>\n",
       "    </tr>\n",
       "  </tbody>\n",
       "</table>\n",
       "<p>1 rows × 23 columns</p>\n",
       "</div>"
      ],
      "text/plain": [
       "   id                              belongs_to_collection    budget  \\\n",
       "0   1  [{'id': 313576, 'name': 'Hot Tub Time Machine ...  14000000   \n",
       "\n",
       "                           genres homepage    imdb_id original_language  \\\n",
       "0  [{'id': 35, 'name': 'Comedy'}]      NaN  tt2637294                en   \n",
       "\n",
       "           original_title                                           overview  \\\n",
       "0  Hot Tub Time Machine 2  When Lou, who has become the \"father of the In...   \n",
       "\n",
       "   popularity  ... release_date runtime  \\\n",
       "0    6.575393  ...      2/20/15    93.0   \n",
       "\n",
       "                           spoken_languages    status  \\\n",
       "0  [{'iso_639_1': 'en', 'name': 'English'}]  Released   \n",
       "\n",
       "                                             tagline                   title  \\\n",
       "0  The Laws of Space and Time are About to be Vio...  Hot Tub Time Machine 2   \n",
       "\n",
       "                                            Keywords  \\\n",
       "0  [{'id': 4379, 'name': 'time travel'}, {'id': 9...   \n",
       "\n",
       "                                                cast  \\\n",
       "0  [{'cast_id': 4, 'character': 'Lou', 'credit_id...   \n",
       "\n",
       "                                                crew   revenue  \n",
       "0  [{'credit_id': '59ac067c92514107af02c8c8', 'de...  12314651  \n",
       "\n",
       "[1 rows x 23 columns]"
      ]
     },
     "execution_count": 4,
     "metadata": {},
     "output_type": "execute_result"
    }
   ],
   "source": [
    "df.head(1)"
   ]
  },
  {
   "cell_type": "code",
   "execution_count": 5,
   "id": "075c89c6",
   "metadata": {},
   "outputs": [
    {
     "data": {
      "text/plain": [
       "(3000, 23)"
      ]
     },
     "execution_count": 5,
     "metadata": {},
     "output_type": "execute_result"
    }
   ],
   "source": [
    "df.shape"
   ]
  },
  {
   "cell_type": "code",
   "execution_count": 7,
   "id": "e2d1bd03",
   "metadata": {},
   "outputs": [
    {
     "data": {
      "text/plain": [
       "0     2/20/15\n",
       "1      8/6/04\n",
       "2    10/10/14\n",
       "3      3/9/12\n",
       "4      2/5/09\n",
       "Name: release_date, dtype: object"
      ]
     },
     "execution_count": 7,
     "metadata": {},
     "output_type": "execute_result"
    }
   ],
   "source": [
    "df['release_date'][0:5]"
   ]
  },
  {
   "cell_type": "code",
   "execution_count": 8,
   "id": "3d8cca25",
   "metadata": {},
   "outputs": [],
   "source": [
    "# Importing datetime modules\n",
    "from datetime import datetime\n",
    "from datetime import date"
   ]
  },
  {
   "cell_type": "markdown",
   "id": "1c19cf61",
   "metadata": {},
   "source": [
    "### strptime means string parser, this will convert a string format to datetime. \n",
    "### strftime means string formatter, this will format a datetime object to string format."
   ]
  },
  {
   "cell_type": "code",
   "execution_count": 24,
   "id": "8fb0a362",
   "metadata": {},
   "outputs": [],
   "source": [
    "df['new_release_date']=df['release_date'].apply(lambda x : datetime.strptime(x,'%m/%d/%y'))"
   ]
  },
  {
   "cell_type": "code",
   "execution_count": 29,
   "id": "1aaf8e29",
   "metadata": {},
   "outputs": [
    {
     "name": "stdout",
     "output_type": "stream",
     "text": [
      "Before applying strptime 0     2/20/15\n",
      "1      8/6/04\n",
      "2    10/10/14\n",
      "3      3/9/12\n",
      "4      2/5/09\n",
      "Name: release_date, dtype: object\n",
      "\n",
      "\n",
      " After applying strptime 0   2015-02-20\n",
      "1   2004-08-06\n",
      "2   2014-10-10\n",
      "3   2012-03-09\n",
      "4   2009-02-05\n",
      "Name: new_release_date, dtype: datetime64[ns]\n"
     ]
    }
   ],
   "source": [
    "print('Before applying strptime',df['release_date'][0:5])\n",
    "print('\\n\\n After applying strptime',df['new_release_date'][0:5])"
   ]
  },
  {
   "cell_type": "code",
   "execution_count": 30,
   "id": "b99d4980",
   "metadata": {},
   "outputs": [
    {
     "name": "stdout",
     "output_type": "stream",
     "text": [
      "2\n",
      "2015\n",
      "20\n",
      "0\n",
      "0\n"
     ]
    }
   ],
   "source": [
    "print(df['new_release_date'][0].month)\n",
    "print(df['new_release_date'][0].year)\n",
    "print(df['new_release_date'][0].day)\n",
    "print(df['new_release_date'][0].hour)\n",
    "print(df['new_release_date'][0].minute)"
   ]
  },
  {
   "cell_type": "code",
   "execution_count": 31,
   "id": "45c2b78d",
   "metadata": {},
   "outputs": [
    {
     "name": "stdout",
     "output_type": "stream",
     "text": [
      "2022-08-04\n",
      "2022-08-04 23:39:50.116402\n"
     ]
    }
   ],
   "source": [
    "print(date.today())\n",
    "print(datetime.now())"
   ]
  },
  {
   "cell_type": "code",
   "execution_count": 33,
   "id": "034cf825",
   "metadata": {},
   "outputs": [
    {
     "name": "stdout",
     "output_type": "stream",
     "text": [
      "2022-08-04\n",
      "2022-08-03\n",
      "2022-08-05 05:17:00.162835\n",
      "2022-08-04 23:48:00.162835\n"
     ]
    }
   ],
   "source": [
    "from datetime import timedelta\n",
    "print(date.today())\n",
    "print(date.today() - timedelta(days=1))\n",
    "print(datetime.now() + timedelta(hours=5.5))\n",
    "print(datetime.now() + timedelta(seconds=60))"
   ]
  },
  {
   "cell_type": "code",
   "execution_count": 34,
   "id": "fd1e639e",
   "metadata": {},
   "outputs": [
    {
     "data": {
      "text/plain": [
       "Timedelta('10060 days 00:00:00')"
      ]
     },
     "execution_count": 34,
     "metadata": {},
     "output_type": "execute_result"
    }
   ],
   "source": [
    "# Difference in two datetime\n",
    "time_delta=df['new_release_date'][0]-df['new_release_date'][5]\n",
    "time_delta"
   ]
  },
  {
   "cell_type": "code",
   "execution_count": 35,
   "id": "ca579d74",
   "metadata": {},
   "outputs": [
    {
     "data": {
      "text/plain": [
       "pandas._libs.tslibs.timedeltas.Timedelta"
      ]
     },
     "execution_count": 35,
     "metadata": {},
     "output_type": "execute_result"
    }
   ],
   "source": [
    "type(time_delta)"
   ]
  },
  {
   "cell_type": "code",
   "execution_count": 36,
   "id": "f513e535",
   "metadata": {},
   "outputs": [
    {
     "data": {
      "text/plain": [
       "869184000.0"
      ]
     },
     "execution_count": 36,
     "metadata": {},
     "output_type": "execute_result"
    }
   ],
   "source": [
    "time_delta.total_seconds()"
   ]
  },
  {
   "cell_type": "code",
   "execution_count": 37,
   "id": "ac6e8fd4",
   "metadata": {},
   "outputs": [
    {
     "name": "stdout",
     "output_type": "stream",
     "text": [
      "2.5\n"
     ]
    }
   ],
   "source": [
    "t1 = pd.to_datetime('1/1/2015 01:00')\n",
    "t2 = pd.to_datetime('1/1/2015 03:30')\n",
    "\n",
    "print(pd.Timedelta(t2 - t1).seconds / 3600.0)"
   ]
  },
  {
   "cell_type": "code",
   "execution_count": null,
   "id": "9d4cde02",
   "metadata": {},
   "outputs": [],
   "source": []
  }
 ],
 "metadata": {
  "kernelspec": {
   "display_name": "Python 3",
   "language": "python",
   "name": "python3"
  },
  "language_info": {
   "codemirror_mode": {
    "name": "ipython",
    "version": 3
   },
   "file_extension": ".py",
   "mimetype": "text/x-python",
   "name": "python",
   "nbconvert_exporter": "python",
   "pygments_lexer": "ipython3",
   "version": "3.8.8"
  }
 },
 "nbformat": 4,
 "nbformat_minor": 5
}
