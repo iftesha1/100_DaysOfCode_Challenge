{
 "cells": [
  {
   "cell_type": "code",
   "execution_count": null,
   "id": "cf7dafd7",
   "metadata": {},
   "outputs": [],
   "source": [
    "!pip install flask"
   ]
  },
  {
   "cell_type": "code",
   "execution_count": null,
   "id": "2c434a0c",
   "metadata": {},
   "outputs": [],
   "source": [
    "!pip install bs4"
   ]
  },
  {
   "cell_type": "code",
   "execution_count": null,
   "id": "be980611",
   "metadata": {},
   "outputs": [],
   "source": [
    "!pip install selenium"
   ]
  },
  {
   "cell_type": "code",
   "execution_count": null,
   "id": "95660f52",
   "metadata": {},
   "outputs": [],
   "source": [
    "!pip install urlopen"
   ]
  },
  {
   "cell_type": "code",
   "execution_count": null,
   "id": "f5d060de",
   "metadata": {},
   "outputs": [],
   "source": [
    "from flask import Flask,render_template,request,jsonify\n",
    "from bs4 import BeautifulSoup as bs\n",
    "from selenium import webdriver\n",
    "from selenium.webdriver.common.by import By\n",
    "from urllib.request import urlopen as urReq"
   ]
  },
  {
   "cell_type": "code",
   "execution_count": null,
   "id": "431cb2ec",
   "metadata": {},
   "outputs": [],
   "source": [
    "yt_link= 'https://www.youtube.com/user/krishnaik06/videos'\n",
    "path = r\"C:\\Users\\Shahid\\Desktop\\chromedriver\"\n",
    "driver = webdriver.Chrome(path)\n",
    "driver.get(yt_link)\n",
    "\n",
    "#driver.quit()"
   ]
  },
  {
   "cell_type": "code",
   "execution_count": 12,
   "id": "948f1824",
   "metadata": {},
   "outputs": [
    {
     "ename": "NameError",
     "evalue": "name 'driver' is not defined",
     "output_type": "error",
     "traceback": [
      "\u001b[1;31m---------------------------------------------------------------------------\u001b[0m",
      "\u001b[1;31mNameError\u001b[0m                                 Traceback (most recent call last)",
      "\u001b[1;32m~\\AppData\\Local\\Temp/ipykernel_17480/4034901798.py\u001b[0m in \u001b[0;36m<module>\u001b[1;34m\u001b[0m\n\u001b[1;32m----> 1\u001b[1;33m \u001b[0mvideos\u001b[0m\u001b[1;33m=\u001b[0m\u001b[0mdriver\u001b[0m\u001b[1;33m.\u001b[0m\u001b[0mfind_elements\u001b[0m\u001b[1;33m(\u001b[0m\u001b[0mBy\u001b[0m\u001b[1;33m.\u001b[0m\u001b[0mCLASS_NAME\u001b[0m\u001b[1;33m,\u001b[0m \u001b[1;34m'style-scope ytd-grid-renderer'\u001b[0m\u001b[1;33m)\u001b[0m\u001b[1;33m\u001b[0m\u001b[1;33m\u001b[0m\u001b[0m\n\u001b[0m",
      "\u001b[1;31mNameError\u001b[0m: name 'driver' is not defined"
     ]
    }
   ],
   "source": [
    "videos=driver.find_elements(By.CLASS_NAME, 'style-scope ytd-grid-renderer')"
   ]
  },
  {
   "cell_type": "code",
   "execution_count": null,
   "id": "53ab323d",
   "metadata": {},
   "outputs": [],
   "source": [
    "for vid in videos:\n",
    "    print(vid.text)"
   ]
  },
  {
   "cell_type": "code",
   "execution_count": null,
   "id": "3eede3f2",
   "metadata": {},
   "outputs": [],
   "source": [
    "titles_button= driver.find_elements(By.XPATH,'//ytd-grid-video-renderer//div//h3/a[@title]')"
   ]
  },
  {
   "cell_type": "code",
   "execution_count": null,
   "id": "2503d16e",
   "metadata": {},
   "outputs": [],
   "source": [
    "titles=[]\n",
    "for title in titles_button:\n",
    "    titles.append(title.get_attribute(\"title\"))"
   ]
  },
  {
   "cell_type": "code",
   "execution_count": null,
   "id": "e636378a",
   "metadata": {},
   "outputs": [],
   "source": [
    "titles"
   ]
  },
  {
   "cell_type": "code",
   "execution_count": 13,
   "id": "93954222",
   "metadata": {},
   "outputs": [
    {
     "ename": "NameError",
     "evalue": "name 'link_button' is not defined",
     "output_type": "error",
     "traceback": [
      "\u001b[1;31m---------------------------------------------------------------------------\u001b[0m",
      "\u001b[1;31mNameError\u001b[0m                                 Traceback (most recent call last)",
      "\u001b[1;32m~\\AppData\\Local\\Temp/ipykernel_17480/3573210877.py\u001b[0m in \u001b[0;36m<module>\u001b[1;34m\u001b[0m\n\u001b[0;32m      1\u001b[0m \u001b[0mlinks\u001b[0m\u001b[1;33m=\u001b[0m\u001b[1;33m[\u001b[0m\u001b[1;33m]\u001b[0m\u001b[1;33m\u001b[0m\u001b[1;33m\u001b[0m\u001b[0m\n\u001b[1;32m----> 2\u001b[1;33m \u001b[1;32mfor\u001b[0m \u001b[0mlink\u001b[0m \u001b[1;32min\u001b[0m \u001b[0mlink_button\u001b[0m\u001b[1;33m:\u001b[0m\u001b[1;33m\u001b[0m\u001b[1;33m\u001b[0m\u001b[0m\n\u001b[0m\u001b[0;32m      3\u001b[0m     \u001b[0mlinks\u001b[0m\u001b[1;33m.\u001b[0m\u001b[0mappend\u001b[0m\u001b[1;33m(\u001b[0m\u001b[0mlink\u001b[0m\u001b[1;33m.\u001b[0m\u001b[0mget_attribute\u001b[0m\u001b[1;33m(\u001b[0m\u001b[1;34m\"href\"\u001b[0m\u001b[1;33m)\u001b[0m\u001b[1;33m)\u001b[0m\u001b[1;33m\u001b[0m\u001b[1;33m\u001b[0m\u001b[0m\n",
      "\u001b[1;31mNameError\u001b[0m: name 'link_button' is not defined"
     ]
    }
   ],
   "source": [
    "links=[]\n",
    "for link in link_button:\n",
    "    links.append(link.get_attribute(\"href\"))"
   ]
  },
  {
   "cell_type": "code",
   "execution_count": 14,
   "id": "9b6fa7a1",
   "metadata": {},
   "outputs": [
    {
     "data": {
      "text/plain": [
       "[]"
      ]
     },
     "execution_count": 14,
     "metadata": {},
     "output_type": "execute_result"
    }
   ],
   "source": [
    "links[0:50]"
   ]
  },
  {
   "cell_type": "code",
   "execution_count": null,
   "id": "3b2d3ec1",
   "metadata": {},
   "outputs": [],
   "source": []
  }
 ],
 "metadata": {
  "kernelspec": {
   "display_name": "Python 3 (ipykernel)",
   "language": "python",
   "name": "python3"
  },
  "language_info": {
   "codemirror_mode": {
    "name": "ipython",
    "version": 3
   },
   "file_extension": ".py",
   "mimetype": "text/x-python",
   "name": "python",
   "nbconvert_exporter": "python",
   "pygments_lexer": "ipython3",
   "version": "3.9.7"
  }
 },
 "nbformat": 4,
 "nbformat_minor": 5
}
