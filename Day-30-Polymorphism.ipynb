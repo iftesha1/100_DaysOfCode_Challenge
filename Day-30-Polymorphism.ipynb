{
 "cells": [
  {
   "cell_type": "code",
   "execution_count": 1,
   "id": "100d3e94",
   "metadata": {},
   "outputs": [],
   "source": [
    "class HouseStark:\n",
    "    def __init__(self, sigil):\n",
    "        self.sigil = sigil\n",
    "\n",
    "    def motto(self):\n",
    "        return \"House Stark with sigil \" + self.sigil + \" has the motto 'Winter is coming'\""
   ]
  },
  {
   "cell_type": "code",
   "execution_count": 2,
   "id": "38a1cfce",
   "metadata": {},
   "outputs": [],
   "source": [
    "class HouseLannister:\n",
    "    def __init__(self, sigil):\n",
    "        self.sigil = sigil\n",
    "\n",
    "    def motto(self):\n",
    "        return \"House Lannister with sigil \" + self.sigil + \" has the motto 'Hear me roar'\""
   ]
  },
  {
   "cell_type": "code",
   "execution_count": 3,
   "id": "1b0c7de8",
   "metadata": {},
   "outputs": [],
   "source": [
    "arya = HouseStark('direwolf')\n",
    "tyrion = HouseLannister('golden lion')"
   ]
  },
  {
   "cell_type": "code",
   "execution_count": 4,
   "id": "e56e39da",
   "metadata": {},
   "outputs": [
    {
     "name": "stdout",
     "output_type": "stream",
     "text": [
      "House Stark with sigil direwolf has the motto 'Winter is coming'\n",
      "House Lannister with sigil golden lion has the motto 'Hear me roar'\n"
     ]
    }
   ],
   "source": [
    "print(arya.motto())\n",
    "print(tyrion.motto())"
   ]
  },
  {
   "cell_type": "code",
   "execution_count": 5,
   "id": "79b5d3f6",
   "metadata": {},
   "outputs": [
    {
     "name": "stdout",
     "output_type": "stream",
     "text": [
      "House Stark with sigil direwolf has the motto 'Winter is coming'\n",
      "House Lannister with sigil golden lion has the motto 'Hear me roar'\n"
     ]
    }
   ],
   "source": [
    "for warrior in [arya, tyrion]:\n",
    "    print(warrior.motto())"
   ]
  },
  {
   "cell_type": "code",
   "execution_count": 6,
   "id": "8e4808ab",
   "metadata": {},
   "outputs": [
    {
     "name": "stdout",
     "output_type": "stream",
     "text": [
      "House Stark with sigil direwolf has the motto 'Winter is coming'\n",
      "House Lannister with sigil golden lion has the motto 'Hear me roar'\n"
     ]
    }
   ],
   "source": [
    "def get_motto(warrior):\n",
    "    print(warrior.motto())\n",
    "\n",
    "get_motto(arya)\n",
    "get_motto(tyrion)"
   ]
  },
  {
   "cell_type": "code",
   "execution_count": null,
   "id": "ed127f2c",
   "metadata": {},
   "outputs": [],
   "source": []
  }
 ],
 "metadata": {
  "kernelspec": {
   "display_name": "Python 3",
   "language": "python",
   "name": "python3"
  },
  "language_info": {
   "codemirror_mode": {
    "name": "ipython",
    "version": 3
   },
   "file_extension": ".py",
   "mimetype": "text/x-python",
   "name": "python",
   "nbconvert_exporter": "python",
   "pygments_lexer": "ipython3",
   "version": "3.8.8"
  }
 },
 "nbformat": 4,
 "nbformat_minor": 5
}
