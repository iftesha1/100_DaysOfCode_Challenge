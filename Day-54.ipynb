{
 "cells": [
  {
   "cell_type": "code",
   "execution_count": 1,
   "id": "eadb8cf9",
   "metadata": {},
   "outputs": [],
   "source": [
    "import numpy as np\n",
    "import pandas as pd\n"
   ]
  },
  {
   "cell_type": "code",
   "execution_count": 2,
   "id": "24076b30",
   "metadata": {},
   "outputs": [],
   "source": [
    "df=pd.read_csv('imdb_data.csv')"
   ]
  },
  {
   "cell_type": "code",
   "execution_count": 3,
   "id": "f34f2113",
   "metadata": {},
   "outputs": [
    {
     "data": {
      "text/html": [
       "<div>\n",
       "<style scoped>\n",
       "    .dataframe tbody tr th:only-of-type {\n",
       "        vertical-align: middle;\n",
       "    }\n",
       "\n",
       "    .dataframe tbody tr th {\n",
       "        vertical-align: top;\n",
       "    }\n",
       "\n",
       "    .dataframe thead th {\n",
       "        text-align: right;\n",
       "    }\n",
       "</style>\n",
       "<table border=\"1\" class=\"dataframe\">\n",
       "  <thead>\n",
       "    <tr style=\"text-align: right;\">\n",
       "      <th></th>\n",
       "      <th>id</th>\n",
       "      <th>belongs_to_collection</th>\n",
       "      <th>budget</th>\n",
       "      <th>genres</th>\n",
       "      <th>homepage</th>\n",
       "      <th>imdb_id</th>\n",
       "      <th>original_language</th>\n",
       "      <th>original_title</th>\n",
       "      <th>overview</th>\n",
       "      <th>popularity</th>\n",
       "      <th>...</th>\n",
       "      <th>release_date</th>\n",
       "      <th>runtime</th>\n",
       "      <th>spoken_languages</th>\n",
       "      <th>status</th>\n",
       "      <th>tagline</th>\n",
       "      <th>title</th>\n",
       "      <th>Keywords</th>\n",
       "      <th>cast</th>\n",
       "      <th>crew</th>\n",
       "      <th>revenue</th>\n",
       "    </tr>\n",
       "  </thead>\n",
       "  <tbody>\n",
       "    <tr>\n",
       "      <th>0</th>\n",
       "      <td>1</td>\n",
       "      <td>[{'id': 313576, 'name': 'Hot Tub Time Machine ...</td>\n",
       "      <td>14000000</td>\n",
       "      <td>[{'id': 35, 'name': 'Comedy'}]</td>\n",
       "      <td>NaN</td>\n",
       "      <td>tt2637294</td>\n",
       "      <td>en</td>\n",
       "      <td>Hot Tub Time Machine 2</td>\n",
       "      <td>When Lou, who has become the \"father of the In...</td>\n",
       "      <td>6.575393</td>\n",
       "      <td>...</td>\n",
       "      <td>2/20/15</td>\n",
       "      <td>93.0</td>\n",
       "      <td>[{'iso_639_1': 'en', 'name': 'English'}]</td>\n",
       "      <td>Released</td>\n",
       "      <td>The Laws of Space and Time are About to be Vio...</td>\n",
       "      <td>Hot Tub Time Machine 2</td>\n",
       "      <td>[{'id': 4379, 'name': 'time travel'}, {'id': 9...</td>\n",
       "      <td>[{'cast_id': 4, 'character': 'Lou', 'credit_id...</td>\n",
       "      <td>[{'credit_id': '59ac067c92514107af02c8c8', 'de...</td>\n",
       "      <td>12314651</td>\n",
       "    </tr>\n",
       "  </tbody>\n",
       "</table>\n",
       "<p>1 rows × 23 columns</p>\n",
       "</div>"
      ],
      "text/plain": [
       "   id                              belongs_to_collection    budget  \\\n",
       "0   1  [{'id': 313576, 'name': 'Hot Tub Time Machine ...  14000000   \n",
       "\n",
       "                           genres homepage    imdb_id original_language  \\\n",
       "0  [{'id': 35, 'name': 'Comedy'}]      NaN  tt2637294                en   \n",
       "\n",
       "           original_title                                           overview  \\\n",
       "0  Hot Tub Time Machine 2  When Lou, who has become the \"father of the In...   \n",
       "\n",
       "   popularity  ... release_date runtime  \\\n",
       "0    6.575393  ...      2/20/15    93.0   \n",
       "\n",
       "                           spoken_languages    status  \\\n",
       "0  [{'iso_639_1': 'en', 'name': 'English'}]  Released   \n",
       "\n",
       "                                             tagline                   title  \\\n",
       "0  The Laws of Space and Time are About to be Vio...  Hot Tub Time Machine 2   \n",
       "\n",
       "                                            Keywords  \\\n",
       "0  [{'id': 4379, 'name': 'time travel'}, {'id': 9...   \n",
       "\n",
       "                                                cast  \\\n",
       "0  [{'cast_id': 4, 'character': 'Lou', 'credit_id...   \n",
       "\n",
       "                                                crew   revenue  \n",
       "0  [{'credit_id': '59ac067c92514107af02c8c8', 'de...  12314651  \n",
       "\n",
       "[1 rows x 23 columns]"
      ]
     },
     "execution_count": 3,
     "metadata": {},
     "output_type": "execute_result"
    }
   ],
   "source": [
    "df.head(1)"
   ]
  },
  {
   "cell_type": "code",
   "execution_count": 4,
   "id": "365d2832",
   "metadata": {},
   "outputs": [
    {
     "data": {
      "text/html": [
       "<div>\n",
       "<style scoped>\n",
       "    .dataframe tbody tr th:only-of-type {\n",
       "        vertical-align: middle;\n",
       "    }\n",
       "\n",
       "    .dataframe tbody tr th {\n",
       "        vertical-align: top;\n",
       "    }\n",
       "\n",
       "    .dataframe thead th {\n",
       "        text-align: right;\n",
       "    }\n",
       "</style>\n",
       "<table border=\"1\" class=\"dataframe\">\n",
       "  <thead>\n",
       "    <tr style=\"text-align: right;\">\n",
       "      <th></th>\n",
       "      <th>title</th>\n",
       "      <th>cast</th>\n",
       "    </tr>\n",
       "  </thead>\n",
       "  <tbody>\n",
       "    <tr>\n",
       "      <th>3</th>\n",
       "      <td>Kahaani</td>\n",
       "      <td>[{'cast_id': 1, 'character': 'Vidya Bagchi', '...</td>\n",
       "    </tr>\n",
       "    <tr>\n",
       "      <th>12</th>\n",
       "      <td>American Beauty</td>\n",
       "      <td>[{'cast_id': 6, 'character': 'Lester Burnham',...</td>\n",
       "    </tr>\n",
       "    <tr>\n",
       "      <th>14</th>\n",
       "      <td>Minority Report</td>\n",
       "      <td>[{'cast_id': 5, 'character': 'Chief John Ander...</td>\n",
       "    </tr>\n",
       "    <tr>\n",
       "      <th>20</th>\n",
       "      <td>Lost in Space</td>\n",
       "      <td>[{'cast_id': 26, 'character': 'Dr. Zachary Smi...</td>\n",
       "    </tr>\n",
       "    <tr>\n",
       "      <th>33</th>\n",
       "      <td>ABCs of Death 2</td>\n",
       "      <td>[{'cast_id': 60, 'character': 'Assassin (Segme...</td>\n",
       "    </tr>\n",
       "    <tr>\n",
       "      <th>...</th>\n",
       "      <td>...</td>\n",
       "      <td>...</td>\n",
       "    </tr>\n",
       "    <tr>\n",
       "      <th>2969</th>\n",
       "      <td>Gosford Park</td>\n",
       "      <td>[{'cast_id': 2, 'character': 'Mrs. Wilson', 'c...</td>\n",
       "    </tr>\n",
       "    <tr>\n",
       "      <th>2970</th>\n",
       "      <td>The Bodyguard</td>\n",
       "      <td>[{'cast_id': 17, 'character': 'Rachel Marron',...</td>\n",
       "    </tr>\n",
       "    <tr>\n",
       "      <th>2980</th>\n",
       "      <td>Action Hero Biju</td>\n",
       "      <td>[{'cast_id': 1, 'character': 'Sub-Inspector Bi...</td>\n",
       "    </tr>\n",
       "    <tr>\n",
       "      <th>2992</th>\n",
       "      <td>The Thief of Bagdad</td>\n",
       "      <td>[{'cast_id': 3, 'character': 'The Thief of Bag...</td>\n",
       "    </tr>\n",
       "    <tr>\n",
       "      <th>2993</th>\n",
       "      <td>The Terminal</td>\n",
       "      <td>[{'cast_id': 4, 'character': 'Viktor Navorski'...</td>\n",
       "    </tr>\n",
       "  </tbody>\n",
       "</table>\n",
       "<p>657 rows × 2 columns</p>\n",
       "</div>"
      ],
      "text/plain": [
       "                    title                                               cast\n",
       "3                 Kahaani  [{'cast_id': 1, 'character': 'Vidya Bagchi', '...\n",
       "12        American Beauty  [{'cast_id': 6, 'character': 'Lester Burnham',...\n",
       "14        Minority Report  [{'cast_id': 5, 'character': 'Chief John Ander...\n",
       "20          Lost in Space  [{'cast_id': 26, 'character': 'Dr. Zachary Smi...\n",
       "33        ABCs of Death 2  [{'cast_id': 60, 'character': 'Assassin (Segme...\n",
       "...                   ...                                                ...\n",
       "2969         Gosford Park  [{'cast_id': 2, 'character': 'Mrs. Wilson', 'c...\n",
       "2970        The Bodyguard  [{'cast_id': 17, 'character': 'Rachel Marron',...\n",
       "2980     Action Hero Biju  [{'cast_id': 1, 'character': 'Sub-Inspector Bi...\n",
       "2992  The Thief of Bagdad  [{'cast_id': 3, 'character': 'The Thief of Bag...\n",
       "2993         The Terminal  [{'cast_id': 4, 'character': 'Viktor Navorski'...\n",
       "\n",
       "[657 rows x 2 columns]"
      ]
     },
     "execution_count": 4,
     "metadata": {},
     "output_type": "execute_result"
    }
   ],
   "source": [
    "long_movies = df[df['runtime'] > 120]\n",
    "long_movies[['title','cast']]"
   ]
  },
  {
   "cell_type": "code",
   "execution_count": 10,
   "id": "a1d75da9",
   "metadata": {},
   "outputs": [
    {
     "data": {
      "text/plain": [
       "(506, 23)"
      ]
     },
     "execution_count": 10,
     "metadata": {},
     "output_type": "execute_result"
    }
   ],
   "source": [
    "long_english_movies=df[(df['original_language']=='en') & (df['runtime'] > 120)]\n",
    "long_english_movies.shape"
   ]
  },
  {
   "cell_type": "markdown",
   "id": "1716acff",
   "metadata": {},
   "source": [
    "## **Let's say if you wanted a new column whose values were half the movie runtime**"
   ]
  },
  {
   "cell_type": "code",
   "execution_count": 11,
   "id": "7a442c15",
   "metadata": {},
   "outputs": [],
   "source": [
    "df['half_runtime'] = df['runtime'] * 0.5"
   ]
  },
  {
   "cell_type": "code",
   "execution_count": 12,
   "id": "c4ec35ee",
   "metadata": {},
   "outputs": [
    {
     "data": {
      "text/html": [
       "<div>\n",
       "<style scoped>\n",
       "    .dataframe tbody tr th:only-of-type {\n",
       "        vertical-align: middle;\n",
       "    }\n",
       "\n",
       "    .dataframe tbody tr th {\n",
       "        vertical-align: top;\n",
       "    }\n",
       "\n",
       "    .dataframe thead th {\n",
       "        text-align: right;\n",
       "    }\n",
       "</style>\n",
       "<table border=\"1\" class=\"dataframe\">\n",
       "  <thead>\n",
       "    <tr style=\"text-align: right;\">\n",
       "      <th></th>\n",
       "      <th>id</th>\n",
       "      <th>belongs_to_collection</th>\n",
       "      <th>budget</th>\n",
       "      <th>genres</th>\n",
       "      <th>homepage</th>\n",
       "      <th>imdb_id</th>\n",
       "      <th>original_language</th>\n",
       "      <th>original_title</th>\n",
       "      <th>overview</th>\n",
       "      <th>popularity</th>\n",
       "      <th>...</th>\n",
       "      <th>runtime</th>\n",
       "      <th>spoken_languages</th>\n",
       "      <th>status</th>\n",
       "      <th>tagline</th>\n",
       "      <th>title</th>\n",
       "      <th>Keywords</th>\n",
       "      <th>cast</th>\n",
       "      <th>crew</th>\n",
       "      <th>revenue</th>\n",
       "      <th>half_runtime</th>\n",
       "    </tr>\n",
       "  </thead>\n",
       "  <tbody>\n",
       "    <tr>\n",
       "      <th>0</th>\n",
       "      <td>1</td>\n",
       "      <td>[{'id': 313576, 'name': 'Hot Tub Time Machine ...</td>\n",
       "      <td>14000000</td>\n",
       "      <td>[{'id': 35, 'name': 'Comedy'}]</td>\n",
       "      <td>NaN</td>\n",
       "      <td>tt2637294</td>\n",
       "      <td>en</td>\n",
       "      <td>Hot Tub Time Machine 2</td>\n",
       "      <td>When Lou, who has become the \"father of the In...</td>\n",
       "      <td>6.575393</td>\n",
       "      <td>...</td>\n",
       "      <td>93.0</td>\n",
       "      <td>[{'iso_639_1': 'en', 'name': 'English'}]</td>\n",
       "      <td>Released</td>\n",
       "      <td>The Laws of Space and Time are About to be Vio...</td>\n",
       "      <td>Hot Tub Time Machine 2</td>\n",
       "      <td>[{'id': 4379, 'name': 'time travel'}, {'id': 9...</td>\n",
       "      <td>[{'cast_id': 4, 'character': 'Lou', 'credit_id...</td>\n",
       "      <td>[{'credit_id': '59ac067c92514107af02c8c8', 'de...</td>\n",
       "      <td>12314651</td>\n",
       "      <td>46.5</td>\n",
       "    </tr>\n",
       "  </tbody>\n",
       "</table>\n",
       "<p>1 rows × 24 columns</p>\n",
       "</div>"
      ],
      "text/plain": [
       "   id                              belongs_to_collection    budget  \\\n",
       "0   1  [{'id': 313576, 'name': 'Hot Tub Time Machine ...  14000000   \n",
       "\n",
       "                           genres homepage    imdb_id original_language  \\\n",
       "0  [{'id': 35, 'name': 'Comedy'}]      NaN  tt2637294                en   \n",
       "\n",
       "           original_title                                           overview  \\\n",
       "0  Hot Tub Time Machine 2  When Lou, who has become the \"father of the In...   \n",
       "\n",
       "   popularity  ... runtime                          spoken_languages  \\\n",
       "0    6.575393  ...    93.0  [{'iso_639_1': 'en', 'name': 'English'}]   \n",
       "\n",
       "     status                                            tagline  \\\n",
       "0  Released  The Laws of Space and Time are About to be Vio...   \n",
       "\n",
       "                    title                                           Keywords  \\\n",
       "0  Hot Tub Time Machine 2  [{'id': 4379, 'name': 'time travel'}, {'id': 9...   \n",
       "\n",
       "                                                cast  \\\n",
       "0  [{'cast_id': 4, 'character': 'Lou', 'credit_id...   \n",
       "\n",
       "                                                crew   revenue half_runtime  \n",
       "0  [{'credit_id': '59ac067c92514107af02c8c8', 'de...  12314651         46.5  \n",
       "\n",
       "[1 rows x 24 columns]"
      ]
     },
     "execution_count": 12,
     "metadata": {},
     "output_type": "execute_result"
    }
   ],
   "source": [
    "df.head(1)"
   ]
  },
  {
   "cell_type": "markdown",
   "id": "4ebc9264",
   "metadata": {},
   "source": [
    "## We can also create a new column by adding two existing columns"
   ]
  },
  {
   "cell_type": "code",
   "execution_count": 13,
   "id": "e7867427",
   "metadata": {},
   "outputs": [],
   "source": [
    "# Creating another new column by subtracting/adding two existing columns\n",
    "df['movie_profit'] = df['revenue'] - df['budget']"
   ]
  },
  {
   "cell_type": "code",
   "execution_count": 14,
   "id": "b2c8c15e",
   "metadata": {},
   "outputs": [],
   "source": [
    "# Remove column\n",
    "df.drop(['id'], axis = 1, inplace=True)"
   ]
  },
  {
   "cell_type": "code",
   "execution_count": 15,
   "id": "0a2404f2",
   "metadata": {},
   "outputs": [
    {
     "data": {
      "text/plain": [
       "67594002330"
      ]
     },
     "execution_count": 15,
     "metadata": {},
     "output_type": "execute_result"
    }
   ],
   "source": [
    "# Find the sum of values in a column\n",
    "df['budget'].sum()"
   ]
  },
  {
   "cell_type": "code",
   "execution_count": null,
   "id": "605fadfc",
   "metadata": {},
   "outputs": [],
   "source": []
  }
 ],
 "metadata": {
  "kernelspec": {
   "display_name": "Python 3",
   "language": "python",
   "name": "python3"
  },
  "language_info": {
   "codemirror_mode": {
    "name": "ipython",
    "version": 3
   },
   "file_extension": ".py",
   "mimetype": "text/x-python",
   "name": "python",
   "nbconvert_exporter": "python",
   "pygments_lexer": "ipython3",
   "version": "3.8.8"
  }
 },
 "nbformat": 4,
 "nbformat_minor": 5
}
