{
 "cells": [
  {
   "cell_type": "code",
   "execution_count": 1,
   "id": "1995c69d",
   "metadata": {},
   "outputs": [],
   "source": [
    "class FirstClass:\n",
    "    pass"
   ]
  },
  {
   "cell_type": "code",
   "execution_count": 2,
   "id": "5c979388",
   "metadata": {},
   "outputs": [
    {
     "name": "stdout",
     "output_type": "stream",
     "text": [
      "<class '__main__.FirstClass'>\n"
     ]
    }
   ],
   "source": [
    "x = FirstClass()\n",
    "print(type(x))"
   ]
  },
  {
   "cell_type": "code",
   "execution_count": 3,
   "id": "1e865474",
   "metadata": {},
   "outputs": [
    {
     "name": "stdout",
     "output_type": "stream",
     "text": [
      "<class '__main__.FirstClass'>\n"
     ]
    }
   ],
   "source": [
    "y = FirstClass()\n",
    "print(type(y))"
   ]
  },
  {
   "cell_type": "code",
   "execution_count": 4,
   "id": "4ef57afa",
   "metadata": {},
   "outputs": [],
   "source": [
    "class Dog:\n",
    "    \n",
    "    def __init__(self, breed, name):\n",
    "        self.breed_attribute = breed\n",
    "        self.name_attribute = name"
   ]
  },
  {
   "cell_type": "code",
   "execution_count": 5,
   "id": "e76631a9",
   "metadata": {},
   "outputs": [],
   "source": [
    "sam_object = Dog(breed='Lab', name = 'Sam')\n",
    "frank_object = Dog(breed='Huskie', name = 'Frank')"
   ]
  },
  {
   "cell_type": "code",
   "execution_count": 6,
   "id": "c54f6340",
   "metadata": {},
   "outputs": [
    {
     "data": {
      "text/plain": [
       "'Lab'"
      ]
     },
     "execution_count": 6,
     "metadata": {},
     "output_type": "execute_result"
    }
   ],
   "source": [
    "sam_object.breed_attribute"
   ]
  },
  {
   "cell_type": "code",
   "execution_count": 8,
   "id": "d031fb4f",
   "metadata": {},
   "outputs": [
    {
     "data": {
      "text/plain": [
       "'Sam'"
      ]
     },
     "execution_count": 8,
     "metadata": {},
     "output_type": "execute_result"
    }
   ],
   "source": [
    "sam_object.name_attribute"
   ]
  },
  {
   "cell_type": "code",
   "execution_count": 9,
   "id": "aaaea9b4",
   "metadata": {},
   "outputs": [
    {
     "data": {
      "text/plain": [
       "'Frank'"
      ]
     },
     "execution_count": 9,
     "metadata": {},
     "output_type": "execute_result"
    }
   ],
   "source": [
    "frank_object.name_attribute"
   ]
  },
  {
   "cell_type": "code",
   "execution_count": null,
   "id": "777f4615",
   "metadata": {},
   "outputs": [],
   "source": []
  }
 ],
 "metadata": {
  "kernelspec": {
   "display_name": "Python 3",
   "language": "python",
   "name": "python3"
  },
  "language_info": {
   "codemirror_mode": {
    "name": "ipython",
    "version": 3
   },
   "file_extension": ".py",
   "mimetype": "text/x-python",
   "name": "python",
   "nbconvert_exporter": "python",
   "pygments_lexer": "ipython3",
   "version": "3.8.8"
  }
 },
 "nbformat": 4,
 "nbformat_minor": 5
}
