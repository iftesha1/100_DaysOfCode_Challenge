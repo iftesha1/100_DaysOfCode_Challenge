{
 "cells": [
  {
   "cell_type": "code",
   "execution_count": 2,
   "id": "8f077fad",
   "metadata": {},
   "outputs": [],
   "source": [
    "# Write your code below. Take pi as 3.14\n",
    "class Cylinder:\n",
    "    def __init__(self,radius,height):\n",
    "        self.radius=radius\n",
    "        self.height=height\n",
    "\n",
    "    def volume(self):\n",
    "        return 3.14*self.radius*self.radius*self.height\n",
    "\n",
    "    def surface_area(self):\n",
    "        return 2*3.14*self.radius*self.height"
   ]
  },
  {
   "cell_type": "code",
   "execution_count": 3,
   "id": "961059a3",
   "metadata": {},
   "outputs": [
    {
     "name": "stdout",
     "output_type": "stream",
     "text": [
      "The volume of the cylinder is 113.03999999999999\n",
      "The surface area of the cylinder is 75.36\n"
     ]
    }
   ],
   "source": [
    "# Checking for sample inputs\n",
    "\n",
    "c=Cylinder(radius=3,height=4)\n",
    "\n",
    "print('The volume of the cylinder is',c.volume())\n",
    "print('The surface area of the cylinder is',c.surface_area())\n"
   ]
  },
  {
   "cell_type": "code",
   "execution_count": null,
   "id": "b55010cc",
   "metadata": {},
   "outputs": [],
   "source": []
  }
 ],
 "metadata": {
  "kernelspec": {
   "display_name": "Python 3",
   "language": "python",
   "name": "python3"
  },
  "language_info": {
   "codemirror_mode": {
    "name": "ipython",
    "version": 3
   },
   "file_extension": ".py",
   "mimetype": "text/x-python",
   "name": "python",
   "nbconvert_exporter": "python",
   "pygments_lexer": "ipython3",
   "version": "3.8.8"
  }
 },
 "nbformat": 4,
 "nbformat_minor": 5
}
